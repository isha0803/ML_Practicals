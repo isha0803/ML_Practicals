{
  "nbformat": 4,
  "nbformat_minor": 0,
  "metadata": {
    "colab": {
      "provenance": [],
      "authorship_tag": "ABX9TyMnK5xo47gdHBuAIKHTM2HN",
      "include_colab_link": true
    },
    "kernelspec": {
      "name": "python3",
      "display_name": "Python 3"
    },
    "language_info": {
      "name": "python"
    }
  },
  "cells": [
    {
      "cell_type": "markdown",
      "metadata": {
        "id": "view-in-github",
        "colab_type": "text"
      },
      "source": [
        "<a href=\"https://colab.research.google.com/github/isha0803/ML_Practicals/blob/main/P3_KNN_Supervised.ipynb\" target=\"_parent\"><img src=\"https://colab.research.google.com/assets/colab-badge.svg\" alt=\"Open In Colab\"/></a>"
      ]
    },
    {
      "cell_type": "code",
      "execution_count": 6,
      "metadata": {
        "colab": {
          "base_uri": "https://localhost:8080/",
          "height": 265
        },
        "id": "HZ4ZMUMIx25m",
        "outputId": "0061e753-9337-4779-b978-3a93b5a12c77"
      },
      "outputs": [
        {
          "output_type": "display_data",
          "data": {
            "text/plain": [
              "<Figure size 432x288 with 1 Axes>"
            ],
            "image/png": "[encoded data removed]"
          },
          "metadata": {
            "needs_background": "light"
          }
        }
      ],
      "source": [
        "import matplotlib.pyplot as plt\n",
        "x=[17, 14, 11, 28, 38]\n",
        "y=[2, 22, 24, 25, 40]\n",
        "classes=[1,1,0,0,0]\n",
        "plt.scatter(x,y,c=classes)\n",
        "plt.show()\n"
      ]
    },
    {
      "cell_type": "code",
      "source": [
        "from sklearn .neighbors import KNeighborsClassifier\n",
        "data = list(zip(x,y))\n",
        "knn = KNeighborsClassifier(n_neighbors=1)\n",
        "knn.fit(data,classes)\n",
        "KNeighborsClassifier(n_neighbors=1)\n",
        "test_new_x = 12\n",
        "test_new_y = 21\n",
        "new_point = [(test_new_x, test_new_y)]\n",
        "prediction = knn.predict(new_point)\n",
        "print(prediction)"
      ],
      "metadata": {
        "colab": {
          "base_uri": "https://localhost:8080/"
        },
        "id": "oi9BYaz4yYJR",
        "outputId": "b56e324a-08c2-443a-b6a4-aa4941af4f0f"
      },
      "execution_count": 7,
      "outputs": [
        {
          "output_type": "stream",
          "name": "stdout",
          "text": [
            "[1]\n"
          ]
        }
      ]
    },
    {
      "cell_type": "code",
      "source": [
        "import matplotlib.pyplot as plt\n",
        "x=[17, 14, 11, 28, 38]\n",
        "y=[2, 22, 24, 25, 40]\n",
        "classes=[1,1,0,0,0]\n",
        "plt.plot(x,y)\n",
        "plt.show()"
      ],
      "metadata": {
        "colab": {
          "base_uri": "https://localhost:8080/",
          "height": 265
        },
        "id": "8zwJtM9pzIRd",
        "outputId": "cc556f06-dd24-40f9-8230-789a00c09bca"
      },
      "execution_count": 8,
      "outputs": [
        {
          "output_type": "display_data",
          "data": {
            "text/plain": [
              "<Figure size 432x288 with 1 Axes>"
            ],
            "image/png": "[encoded data removed]"
          },
          "metadata": {
            "needs_background": "light"
          }
        }
      ]
    }
  ]
}